{
 "cells": [
  {
   "cell_type": "code",
   "execution_count": null,
   "metadata": {
    "id": "Yx13v_H2L5kO"
   },
   "outputs": [],
   "source": [
    "# # install Plotly\n",
    "# !pip3 install plotly"
   ]
  },
  {
   "cell_type": "markdown",
   "metadata": {
    "id": "YgiPSGzJ5OKd"
   },
   "source": [
    "### Importing Libraries "
   ]
  },
  {
   "cell_type": "code",
   "execution_count": null,
   "metadata": {
    "colab": {
     "base_uri": "https://localhost:8080/"
    },
    "id": "WHqMQvR85WvC",
    "outputId": "ffd3d684-ddf2-46f9-a3f5-e634c94023d1"
   },
   "outputs": [
    {
     "name": "stdout",
     "output_type": "stream",
     "text": [
      "Mounted at /content/drive\n"
     ]
    }
   ],
   "source": [
    "from google.colab import drive\n",
    "drive.mount('/content/drive')"
   ]
  },
  {
   "cell_type": "code",
   "execution_count": null,
   "metadata": {
    "id": "lpgSQ9U15OKf"
   },
   "outputs": [],
   "source": [
    "from keras.layers import Dense\n",
    "from keras.layers import LSTM\n",
    "from keras.models import Sequential\n",
    "from keras.optimizers import Adam\n",
    "from keras.preprocessing import sequence\n",
    "\n",
    "\n",
    "import numpy as np\n",
    "import os\n",
    "import pandas as pd\n",
    "\n",
    "\n",
    "import plotly.express as px\n",
    "import plotly.graph_objs as go\n",
    "\n",
    "\n",
    "import seaborn as sns\n",
    "from sklearn.metrics import confusion_matrix\n",
    "from sklearn.metrics import precision_score\n",
    "from sklearn.metrics import accuracy_score, recall_score, average_precision_score\n",
    "\n",
    "from sklearn.model_selection import train_test_split\n",
    "\n",
    "import tensorflow as tf"
   ]
  },
  {
   "cell_type": "markdown",
   "metadata": {
    "id": "ngH9YvAI5OKg"
   },
   "source": [
    "### Data Pre Processing"
   ]
  },
  {
   "cell_type": "code",
   "execution_count": null,
   "metadata": {
    "id": "8zMt986K5OKg"
   },
   "outputs": [],
   "source": [
    "ConditionGroupFileNames = os.listdir('drive/MyDrive/FML/Depression-prediction-from-actigraph-main/data/condition')\n",
    "ControlGroupFileNames = os.listdir('drive/MyDrive/FML/Depression-prediction-from-actigraph-main/data/control')"
   ]
  },
  {
   "cell_type": "code",
   "execution_count": null,
   "metadata": {
    "id": "1x1IZ2Jp5OKh"
   },
   "outputs": [],
   "source": [
    "X = []\n",
    "y = []\n",
    "for fileName in ConditionGroupFileNames:\n",
    "    df = pd.read_csv('drive/MyDrive/FML/Depression-prediction-from-actigraph-main/data/condition/'+str(fileName))\n",
    "#     print(df)\n",
    "    dates = df['date'].unique()\n",
    "#     print(dates)\n",
    "    activityLevelsPerDay = []\n",
    "    for date in dates:\n",
    "        if len(df[df['date']==date]) == 1440:\n",
    "            temp = pd.DataFrame(df[df['date']==date]).drop(columns=['timestamp','date'])\n",
    "            activityLevelsPerDay.append(temp)\n",
    "    for dailyActivityLevel in activityLevelsPerDay:\n",
    "        activityVector = np.array(dailyActivityLevel[\"activity\"])\n",
    "        if len(activityVector) == 1440:\n",
    "            X.append(activityVector)\n",
    "            y.append(1)"
   ]
  },
  {
   "cell_type": "code",
   "execution_count": null,
   "metadata": {
    "id": "M5L4J4A65OKi"
   },
   "outputs": [],
   "source": [
    "for fileName in ControlGroupFileNames:\n",
    "    df = pd.read_csv('drive/MyDrive/FML/Depression-prediction-from-actigraph-main/data/control/'+str(fileName))\n",
    "    dates = df['date'].unique()\n",
    "    activityLevelsPerDay = []\n",
    "    for date in dates:\n",
    "        if len(df[df['date']==date]) == 1440:\n",
    "            temp = pd.DataFrame(df[df['date']==date]).drop(columns=['timestamp','date'])\n",
    "            activityLevelsPerDay.append(temp)\n",
    "    for dailyActivityLevel in activityLevelsPerDay:\n",
    "        activityVector = np.array(dailyActivityLevel[\"activity\"])\n",
    "        if len(activityVector) == 1440:\n",
    "            X.append(activityVector)\n",
    "            y.append(0)"
   ]
  },
  {
   "cell_type": "code",
   "execution_count": null,
   "metadata": {
    "id": "rtHLvfz2eP6D"
   },
   "outputs": [],
   "source": [
    "X = np.array(X)\n",
    "y= np.array(y)"
   ]
  },
  {
   "cell_type": "code",
   "execution_count": null,
   "metadata": {
    "colab": {
     "base_uri": "https://localhost:8080/"
    },
    "id": "VUIosztKdbcG",
    "outputId": "c327ec27-3ced-4a6c-8260-d23b9084328a"
   },
   "outputs": [
    {
     "data": {
      "text/plain": [
       "(670, 359)"
      ]
     },
     "execution_count": 8,
     "metadata": {},
     "output_type": "execute_result"
    }
   ],
   "source": [
    "# Non Depressed Class and Depressed Class\n",
    "sum(y==0), sum(y==1)"
   ]
  },
  {
   "cell_type": "code",
   "execution_count": null,
   "metadata": {
    "id": "dn6CKRMq67QU"
   },
   "outputs": [],
   "source": [
    "X_train, X_test, y_train, y_test = train_test_split(X, y, test_size=0.2, random_state=42)\n",
    "X_train, X_val, y_train, y_val = train_test_split(X, y, test_size=0.1, random_state=42)"
   ]
  },
  {
   "cell_type": "code",
   "execution_count": null,
   "metadata": {
    "id": "z8aYoAhP8FLs"
   },
   "outputs": [],
   "source": [
    "X_train = np.array(X_train)\n",
    "X_test = np.array(X_test)\n",
    "y_train = np.array(y_train)\n",
    "y_test = np.array(y_test)\n",
    "X_val = np.array(X_val)\n",
    "y_val = np.array(y_val)"
   ]
  },
  {
   "cell_type": "code",
   "execution_count": null,
   "metadata": {
    "id": "yD2y1Fzd6u1e"
   },
   "outputs": [],
   "source": [
    "seq_len = 1440"
   ]
  },
  {
   "cell_type": "code",
   "execution_count": null,
   "metadata": {
    "id": "R3Z6ce6M6f9p"
   },
   "outputs": [],
   "source": [
    "model = Sequential()\n",
    "model.add(LSTM(256, input_shape=( 1,seq_len), return_sequences=True))\n",
    "model.add(LSTM(256, return_sequences=True))\n",
    "model.add(LSTM(256, return_sequences=True))\n",
    "model.add(LSTM(256, return_sequences=True))\n",
    "model.add(LSTM(128))  \n",
    "model.add(Dense(1, activation='relu'))"
   ]
  },
  {
   "cell_type": "code",
   "execution_count": null,
   "metadata": {
    "colab": {
     "base_uri": "https://localhost:8080/"
    },
    "id": "zwtg3XeA6wwZ",
    "outputId": "48f9f4cf-fc8b-4837-d889-fce0ba92c3cd"
   },
   "outputs": [
    {
     "name": "stdout",
     "output_type": "stream",
     "text": [
      "Model: \"sequential\"\n",
      "_________________________________________________________________\n",
      " Layer (type)                Output Shape              Param #   \n",
      "=================================================================\n",
      " lstm (LSTM)                 (None, 1, 256)            1737728   \n",
      "                                                                 \n",
      " lstm_1 (LSTM)               (None, 1, 256)            525312    \n",
      "                                                                 \n",
      " lstm_2 (LSTM)               (None, 1, 256)            525312    \n",
      "                                                                 \n",
      " lstm_3 (LSTM)               (None, 1, 256)            525312    \n",
      "                                                                 \n",
      " lstm_4 (LSTM)               (None, 128)               197120    \n",
      "                                                                 \n",
      " dense (Dense)               (None, 1)                 129       \n",
      "                                                                 \n",
      "=================================================================\n",
      "Total params: 3,510,913\n",
      "Trainable params: 3,510,913\n",
      "Non-trainable params: 0\n",
      "_________________________________________________________________\n"
     ]
    }
   ],
   "source": [
    "model.summary()"
   ]
  },
  {
   "cell_type": "code",
   "execution_count": null,
   "metadata": {
    "id": "ot6Agvm_6z0D"
   },
   "outputs": [],
   "source": [
    "adam = Adam(learning_rate=0.001)\n",
    "model.compile(loss='binary_crossentropy', optimizer=adam, metrics=['accuracy'])"
   ]
  },
  {
   "cell_type": "code",
   "execution_count": null,
   "metadata": {
    "colab": {
     "base_uri": "https://localhost:8080/"
    },
    "id": "oI80YzvG7Z-4",
    "outputId": "45348a7b-22af-47ba-b79d-66e6cf5354be"
   },
   "outputs": [
    {
     "name": "stdout",
     "output_type": "stream",
     "text": [
      "Epoch 1/50\n",
      "8/8 [==============================] - 16s 427ms/step - loss: 1.7445 - accuracy: 0.6523 - val_loss: 1.0855 - val_accuracy: 0.6408\n",
      "Epoch 2/50\n",
      "8/8 [==============================] - 1s 87ms/step - loss: 0.8604 - accuracy: 0.6523 - val_loss: 0.7021 - val_accuracy: 0.6408\n",
      "Epoch 3/50\n",
      "8/8 [==============================] - 1s 80ms/step - loss: 0.6177 - accuracy: 0.6361 - val_loss: 0.7241 - val_accuracy: 0.6214\n",
      "Epoch 4/50\n",
      "8/8 [==============================] - 1s 82ms/step - loss: 0.5875 - accuracy: 0.6674 - val_loss: 0.7332 - val_accuracy: 0.6214\n",
      "Epoch 5/50\n",
      "8/8 [==============================] - 1s 170ms/step - loss: 0.5744 - accuracy: 0.6566 - val_loss: 0.8118 - val_accuracy: 0.6505\n",
      "Epoch 6/50\n",
      "8/8 [==============================] - 1s 82ms/step - loss: 0.5639 - accuracy: 0.6652 - val_loss: 0.8279 - val_accuracy: 0.6505\n",
      "Epoch 7/50\n",
      "8/8 [==============================] - 1s 83ms/step - loss: 0.5580 - accuracy: 0.6868 - val_loss: 0.8057 - val_accuracy: 0.6408\n",
      "Epoch 8/50\n",
      "8/8 [==============================] - 1s 117ms/step - loss: 0.5429 - accuracy: 0.6976 - val_loss: 0.8353 - val_accuracy: 0.6019\n",
      "Epoch 9/50\n",
      "8/8 [==============================] - 1s 89ms/step - loss: 0.5612 - accuracy: 0.6879 - val_loss: 0.8539 - val_accuracy: 0.5922\n",
      "Epoch 10/50\n",
      "8/8 [==============================] - 1s 81ms/step - loss: 0.5434 - accuracy: 0.6911 - val_loss: 0.7990 - val_accuracy: 0.6311\n",
      "Epoch 11/50\n",
      "8/8 [==============================] - 1s 80ms/step - loss: 0.5264 - accuracy: 0.7127 - val_loss: 0.9894 - val_accuracy: 0.6408\n",
      "Epoch 12/50\n",
      "8/8 [==============================] - 1s 82ms/step - loss: 0.5389 - accuracy: 0.6922 - val_loss: 0.8197 - val_accuracy: 0.5922\n",
      "Epoch 13/50\n",
      "8/8 [==============================] - 1s 87ms/step - loss: 0.5181 - accuracy: 0.7138 - val_loss: 0.9171 - val_accuracy: 0.5243\n",
      "Epoch 14/50\n",
      "8/8 [==============================] - 1s 82ms/step - loss: 0.5287 - accuracy: 0.7289 - val_loss: 0.9226 - val_accuracy: 0.6311\n",
      "Epoch 15/50\n",
      "8/8 [==============================] - 1s 83ms/step - loss: 0.5677 - accuracy: 0.7203 - val_loss: 1.0378 - val_accuracy: 0.6311\n",
      "Epoch 16/50\n",
      "8/8 [==============================] - 1s 85ms/step - loss: 0.5590 - accuracy: 0.7117 - val_loss: 1.3621 - val_accuracy: 0.6408\n",
      "Epoch 17/50\n",
      "8/8 [==============================] - 1s 82ms/step - loss: 0.5652 - accuracy: 0.6955 - val_loss: 0.8428 - val_accuracy: 0.5631\n",
      "Epoch 18/50\n",
      "8/8 [==============================] - 1s 83ms/step - loss: 0.5293 - accuracy: 0.6922 - val_loss: 0.7674 - val_accuracy: 0.6311\n",
      "Epoch 19/50\n",
      "8/8 [==============================] - 1s 82ms/step - loss: 0.4993 - accuracy: 0.7311 - val_loss: 0.7967 - val_accuracy: 0.6311\n",
      "Epoch 20/50\n",
      "8/8 [==============================] - 1s 83ms/step - loss: 0.4925 - accuracy: 0.7203 - val_loss: 0.7977 - val_accuracy: 0.6117\n",
      "Epoch 21/50\n",
      "8/8 [==============================] - 1s 82ms/step - loss: 0.4917 - accuracy: 0.7430 - val_loss: 0.9070 - val_accuracy: 0.6214\n",
      "Epoch 22/50\n",
      "8/8 [==============================] - 1s 86ms/step - loss: 0.5035 - accuracy: 0.7343 - val_loss: 0.7930 - val_accuracy: 0.6408\n",
      "Epoch 23/50\n",
      "8/8 [==============================] - 1s 84ms/step - loss: 0.5070 - accuracy: 0.7138 - val_loss: 0.7645 - val_accuracy: 0.6408\n",
      "Epoch 24/50\n",
      "8/8 [==============================] - 1s 83ms/step - loss: 0.4945 - accuracy: 0.7516 - val_loss: 0.7904 - val_accuracy: 0.6214\n",
      "Epoch 25/50\n",
      "8/8 [==============================] - 1s 79ms/step - loss: 0.4871 - accuracy: 0.7419 - val_loss: 0.8363 - val_accuracy: 0.6214\n",
      "Epoch 26/50\n",
      "8/8 [==============================] - 1s 83ms/step - loss: 0.5051 - accuracy: 0.7365 - val_loss: 0.7751 - val_accuracy: 0.6117\n",
      "Epoch 27/50\n",
      "8/8 [==============================] - 1s 80ms/step - loss: 0.4776 - accuracy: 0.7538 - val_loss: 0.9096 - val_accuracy: 0.6796\n",
      "Epoch 28/50\n",
      "8/8 [==============================] - 1s 80ms/step - loss: 0.4798 - accuracy: 0.7419 - val_loss: 0.7721 - val_accuracy: 0.6602\n",
      "Epoch 29/50\n",
      "8/8 [==============================] - 1s 82ms/step - loss: 0.4776 - accuracy: 0.7484 - val_loss: 0.7885 - val_accuracy: 0.6408\n",
      "Epoch 30/50\n",
      "8/8 [==============================] - 1s 82ms/step - loss: 0.4773 - accuracy: 0.7343 - val_loss: 1.1758 - val_accuracy: 0.6408\n",
      "Epoch 31/50\n",
      "8/8 [==============================] - 1s 84ms/step - loss: 0.4939 - accuracy: 0.7495 - val_loss: 0.9646 - val_accuracy: 0.5922\n",
      "Epoch 32/50\n",
      "8/8 [==============================] - 1s 81ms/step - loss: 0.5051 - accuracy: 0.7484 - val_loss: 0.8759 - val_accuracy: 0.5534\n",
      "Epoch 33/50\n",
      "8/8 [==============================] - 1s 82ms/step - loss: 0.4972 - accuracy: 0.7171 - val_loss: 0.7750 - val_accuracy: 0.6505\n",
      "Epoch 34/50\n",
      "8/8 [==============================] - 1s 80ms/step - loss: 0.4953 - accuracy: 0.7473 - val_loss: 0.8313 - val_accuracy: 0.6408\n",
      "Epoch 35/50\n",
      "8/8 [==============================] - 1s 81ms/step - loss: 0.4911 - accuracy: 0.7592 - val_loss: 0.8164 - val_accuracy: 0.6408\n",
      "Epoch 36/50\n",
      "8/8 [==============================] - 1s 81ms/step - loss: 0.4812 - accuracy: 0.7570 - val_loss: 0.9582 - val_accuracy: 0.6699\n",
      "Epoch 37/50\n",
      "8/8 [==============================] - 1s 80ms/step - loss: 0.4818 - accuracy: 0.7495 - val_loss: 0.9732 - val_accuracy: 0.6408\n",
      "Epoch 38/50\n",
      "8/8 [==============================] - 1s 89ms/step - loss: 0.4686 - accuracy: 0.7613 - val_loss: 0.9766 - val_accuracy: 0.5728\n",
      "Epoch 39/50\n",
      "8/8 [==============================] - 1s 81ms/step - loss: 0.4526 - accuracy: 0.7635 - val_loss: 0.9103 - val_accuracy: 0.6408\n",
      "Epoch 40/50\n",
      "8/8 [==============================] - 1s 89ms/step - loss: 0.4587 - accuracy: 0.7646 - val_loss: 0.9171 - val_accuracy: 0.6602\n",
      "Epoch 41/50\n",
      "8/8 [==============================] - 1s 85ms/step - loss: 0.5181 - accuracy: 0.7430 - val_loss: 0.9339 - val_accuracy: 0.6505\n",
      "Epoch 42/50\n",
      "8/8 [==============================] - 1s 83ms/step - loss: 0.4907 - accuracy: 0.7689 - val_loss: 0.9144 - val_accuracy: 0.6505\n",
      "Epoch 43/50\n",
      "8/8 [==============================] - 1s 84ms/step - loss: 0.4590 - accuracy: 0.7689 - val_loss: 0.9072 - val_accuracy: 0.6505\n",
      "Epoch 44/50\n",
      "8/8 [==============================] - 1s 85ms/step - loss: 0.4646 - accuracy: 0.7495 - val_loss: 0.9093 - val_accuracy: 0.6214\n",
      "Epoch 45/50\n",
      "8/8 [==============================] - 1s 84ms/step - loss: 0.4541 - accuracy: 0.7624 - val_loss: 1.2413 - val_accuracy: 0.6117\n",
      "Epoch 46/50\n",
      "8/8 [==============================] - 1s 84ms/step - loss: 0.4618 - accuracy: 0.7689 - val_loss: 1.3706 - val_accuracy: 0.6796\n",
      "Epoch 47/50\n",
      "8/8 [==============================] - 1s 84ms/step - loss: 0.5356 - accuracy: 0.7495 - val_loss: 1.0888 - val_accuracy: 0.6408\n",
      "Epoch 48/50\n",
      "8/8 [==============================] - 1s 84ms/step - loss: 0.4793 - accuracy: 0.7711 - val_loss: 0.9261 - val_accuracy: 0.6311\n",
      "Epoch 49/50\n",
      "8/8 [==============================] - 1s 84ms/step - loss: 0.4829 - accuracy: 0.7376 - val_loss: 0.9271 - val_accuracy: 0.6699\n",
      "Epoch 50/50\n",
      "8/8 [==============================] - 1s 83ms/step - loss: 0.4813 - accuracy: 0.7516 - val_loss: 0.9266 - val_accuracy: 0.6699\n"
     ]
    }
   ],
   "source": [
    "history = model.fit(X_train.reshape(-1, 1, 1440), y_train, epochs=50, batch_size=128, validation_data=(X_val.reshape(-1, 1, 1440),y_val))"
   ]
  },
  {
   "cell_type": "code",
   "execution_count": null,
   "metadata": {
    "colab": {
     "base_uri": "https://localhost:8080/",
     "height": 542
    },
    "id": "8nuvpmAe4V3e",
    "outputId": "ba7e3518-01c9-49da-9d26-2d5da9d6c6e8"
   },
   "outputs": [
    {
     "data": {
      "text/html": [
       "<html>\n",
       "<head><meta charset=\"utf-8\" /></head>\n",
       "<body>\n",
       "    <div>            <script src=\"https://cdnjs.cloudflare.com/ajax/libs/mathjax/2.7.5/MathJax.js?config=TeX-AMS-MML_SVG\"></script><script type=\"text/javascript\">if (window.MathJax) {MathJax.Hub.Config({SVG: {font: \"STIX-Web\"}});}</script>                <script type=\"text/javascript\">window.PlotlyConfig = {MathJaxConfig: 'local'};</script>\n",
       "        <script src=\"https://cdn.plot.ly/plotly-2.8.3.min.js\"></script>                <div id=\"a8ace60d-3fff-4901-865d-b1505eb3bfc5\" class=\"plotly-graph-div\" style=\"height:525px; width:100%;\"></div>            <script type=\"text/javascript\">                                    window.PLOTLYENV=window.PLOTLYENV || {};                                    if (document.getElementById(\"a8ace60d-3fff-4901-865d-b1505eb3bfc5\")) {                    Plotly.newPlot(                        \"a8ace60d-3fff-4901-865d-b1505eb3bfc5\",                        [{\"mode\":\"lines\",\"name\":\"lines\",\"y\":[0.6522678136825562,0.6522678136825562,0.636069118976593,0.6673865914344788,0.6565874814987183,0.6652267575263977,0.6868250370025635,0.6976242065429688,0.687904953956604,0.6911447048187256,0.7127429842948914,0.6922246217727661,0.7138229012489319,0.7289416790008545,0.720302402973175,0.7116630673408508,0.6954643726348877,0.6922246217727661,0.7311015129089355,0.720302402973175,0.7429805397987366,0.7343412637710571,0.7138229012489319,0.7516198754310608,0.741900622844696,0.7365010976791382,0.7537797093391418,0.741900622844696,0.7483801245689392,0.7343412637710571,0.7494600415229797,0.7483801245689392,0.7170626521110535,0.7473002076148987,0.7591792941093445,0.7570194602012634,0.7494600415229797,0.7613390684127808,0.7634989023208618,0.7645788192749023,0.7429805397987366,0.7688984870910645,0.7688984870910645,0.7494600415229797,0.7624189853668213,0.7688984870910645,0.7494600415229797,0.7710583209991455,0.7375810146331787,0.7516198754310608],\"type\":\"scatter\"}],                        {\"template\":{\"data\":{\"barpolar\":[{\"marker\":{\"line\":{\"color\":\"white\",\"width\":0.5},\"pattern\":{\"fillmode\":\"overlay\",\"size\":10,\"solidity\":0.2}},\"type\":\"barpolar\"}],\"bar\":[{\"error_x\":{\"color\":\"rgb(36,36,36)\"},\"error_y\":{\"color\":\"rgb(36,36,36)\"},\"marker\":{\"line\":{\"color\":\"white\",\"width\":0.5},\"pattern\":{\"fillmode\":\"overlay\",\"size\":10,\"solidity\":0.2}},\"type\":\"bar\"}],\"carpet\":[{\"aaxis\":{\"endlinecolor\":\"rgb(36,36,36)\",\"gridcolor\":\"white\",\"linecolor\":\"white\",\"minorgridcolor\":\"white\",\"startlinecolor\":\"rgb(36,36,36)\"},\"baxis\":{\"endlinecolor\":\"rgb(36,36,36)\",\"gridcolor\":\"white\",\"linecolor\":\"white\",\"minorgridcolor\":\"white\",\"startlinecolor\":\"rgb(36,36,36)\"},\"type\":\"carpet\"}],\"choropleth\":[{\"colorbar\":{\"outlinewidth\":1,\"tickcolor\":\"rgb(36,36,36)\",\"ticks\":\"outside\"},\"type\":\"choropleth\"}],\"contourcarpet\":[{\"colorbar\":{\"outlinewidth\":1,\"tickcolor\":\"rgb(36,36,36)\",\"ticks\":\"outside\"},\"type\":\"contourcarpet\"}],\"contour\":[{\"colorbar\":{\"outlinewidth\":1,\"tickcolor\":\"rgb(36,36,36)\",\"ticks\":\"outside\"},\"colorscale\":[[0.0,\"#440154\"],[0.1111111111111111,\"#482878\"],[0.2222222222222222,\"#3e4989\"],[0.3333333333333333,\"#31688e\"],[0.4444444444444444,\"#26828e\"],[0.5555555555555556,\"#1f9e89\"],[0.6666666666666666,\"#35b779\"],[0.7777777777777778,\"#6ece58\"],[0.8888888888888888,\"#b5de2b\"],[1.0,\"#fde725\"]],\"type\":\"contour\"}],\"heatmapgl\":[{\"colorbar\":{\"outlinewidth\":1,\"tickcolor\":\"rgb(36,36,36)\",\"ticks\":\"outside\"},\"colorscale\":[[0.0,\"#440154\"],[0.1111111111111111,\"#482878\"],[0.2222222222222222,\"#3e4989\"],[0.3333333333333333,\"#31688e\"],[0.4444444444444444,\"#26828e\"],[0.5555555555555556,\"#1f9e89\"],[0.6666666666666666,\"#35b779\"],[0.7777777777777778,\"#6ece58\"],[0.8888888888888888,\"#b5de2b\"],[1.0,\"#fde725\"]],\"type\":\"heatmapgl\"}],\"heatmap\":[{\"colorbar\":{\"outlinewidth\":1,\"tickcolor\":\"rgb(36,36,36)\",\"ticks\":\"outside\"},\"colorscale\":[[0.0,\"#440154\"],[0.1111111111111111,\"#482878\"],[0.2222222222222222,\"#3e4989\"],[0.3333333333333333,\"#31688e\"],[0.4444444444444444,\"#26828e\"],[0.5555555555555556,\"#1f9e89\"],[0.6666666666666666,\"#35b779\"],[0.7777777777777778,\"#6ece58\"],[0.8888888888888888,\"#b5de2b\"],[1.0,\"#fde725\"]],\"type\":\"heatmap\"}],\"histogram2dcontour\":[{\"colorbar\":{\"outlinewidth\":1,\"tickcolor\":\"rgb(36,36,36)\",\"ticks\":\"outside\"},\"colorscale\":[[0.0,\"#440154\"],[0.1111111111111111,\"#482878\"],[0.2222222222222222,\"#3e4989\"],[0.3333333333333333,\"#31688e\"],[0.4444444444444444,\"#26828e\"],[0.5555555555555556,\"#1f9e89\"],[0.6666666666666666,\"#35b779\"],[0.7777777777777778,\"#6ece58\"],[0.8888888888888888,\"#b5de2b\"],[1.0,\"#fde725\"]],\"type\":\"histogram2dcontour\"}],\"histogram2d\":[{\"colorbar\":{\"outlinewidth\":1,\"tickcolor\":\"rgb(36,36,36)\",\"ticks\":\"outside\"},\"colorscale\":[[0.0,\"#440154\"],[0.1111111111111111,\"#482878\"],[0.2222222222222222,\"#3e4989\"],[0.3333333333333333,\"#31688e\"],[0.4444444444444444,\"#26828e\"],[0.5555555555555556,\"#1f9e89\"],[0.6666666666666666,\"#35b779\"],[0.7777777777777778,\"#6ece58\"],[0.8888888888888888,\"#b5de2b\"],[1.0,\"#fde725\"]],\"type\":\"histogram2d\"}],\"histogram\":[{\"marker\":{\"line\":{\"color\":\"white\",\"width\":0.6}},\"type\":\"histogram\"}],\"mesh3d\":[{\"colorbar\":{\"outlinewidth\":1,\"tickcolor\":\"rgb(36,36,36)\",\"ticks\":\"outside\"},\"type\":\"mesh3d\"}],\"parcoords\":[{\"line\":{\"colorbar\":{\"outlinewidth\":1,\"tickcolor\":\"rgb(36,36,36)\",\"ticks\":\"outside\"}},\"type\":\"parcoords\"}],\"pie\":[{\"automargin\":true,\"type\":\"pie\"}],\"scatter3d\":[{\"line\":{\"colorbar\":{\"outlinewidth\":1,\"tickcolor\":\"rgb(36,36,36)\",\"ticks\":\"outside\"}},\"marker\":{\"colorbar\":{\"outlinewidth\":1,\"tickcolor\":\"rgb(36,36,36)\",\"ticks\":\"outside\"}},\"type\":\"scatter3d\"}],\"scattercarpet\":[{\"marker\":{\"colorbar\":{\"outlinewidth\":1,\"tickcolor\":\"rgb(36,36,36)\",\"ticks\":\"outside\"}},\"type\":\"scattercarpet\"}],\"scattergeo\":[{\"marker\":{\"colorbar\":{\"outlinewidth\":1,\"tickcolor\":\"rgb(36,36,36)\",\"ticks\":\"outside\"}},\"type\":\"scattergeo\"}],\"scattergl\":[{\"marker\":{\"colorbar\":{\"outlinewidth\":1,\"tickcolor\":\"rgb(36,36,36)\",\"ticks\":\"outside\"}},\"type\":\"scattergl\"}],\"scattermapbox\":[{\"marker\":{\"colorbar\":{\"outlinewidth\":1,\"tickcolor\":\"rgb(36,36,36)\",\"ticks\":\"outside\"}},\"type\":\"scattermapbox\"}],\"scatterpolargl\":[{\"marker\":{\"colorbar\":{\"outlinewidth\":1,\"tickcolor\":\"rgb(36,36,36)\",\"ticks\":\"outside\"}},\"type\":\"scatterpolargl\"}],\"scatterpolar\":[{\"marker\":{\"colorbar\":{\"outlinewidth\":1,\"tickcolor\":\"rgb(36,36,36)\",\"ticks\":\"outside\"}},\"type\":\"scatterpolar\"}],\"scatter\":[{\"marker\":{\"colorbar\":{\"outlinewidth\":1,\"tickcolor\":\"rgb(36,36,36)\",\"ticks\":\"outside\"}},\"type\":\"scatter\"}],\"scatterternary\":[{\"marker\":{\"colorbar\":{\"outlinewidth\":1,\"tickcolor\":\"rgb(36,36,36)\",\"ticks\":\"outside\"}},\"type\":\"scatterternary\"}],\"surface\":[{\"colorbar\":{\"outlinewidth\":1,\"tickcolor\":\"rgb(36,36,36)\",\"ticks\":\"outside\"},\"colorscale\":[[0.0,\"#440154\"],[0.1111111111111111,\"#482878\"],[0.2222222222222222,\"#3e4989\"],[0.3333333333333333,\"#31688e\"],[0.4444444444444444,\"#26828e\"],[0.5555555555555556,\"#1f9e89\"],[0.6666666666666666,\"#35b779\"],[0.7777777777777778,\"#6ece58\"],[0.8888888888888888,\"#b5de2b\"],[1.0,\"#fde725\"]],\"type\":\"surface\"}],\"table\":[{\"cells\":{\"fill\":{\"color\":\"rgb(237,237,237)\"},\"line\":{\"color\":\"white\"}},\"header\":{\"fill\":{\"color\":\"rgb(217,217,217)\"},\"line\":{\"color\":\"white\"}},\"type\":\"table\"}]},\"layout\":{\"annotationdefaults\":{\"arrowhead\":0,\"arrowwidth\":1},\"autotypenumbers\":\"strict\",\"coloraxis\":{\"colorbar\":{\"outlinewidth\":1,\"tickcolor\":\"rgb(36,36,36)\",\"ticks\":\"outside\"}},\"colorscale\":{\"diverging\":[[0.0,\"rgb(103,0,31)\"],[0.1,\"rgb(178,24,43)\"],[0.2,\"rgb(214,96,77)\"],[0.3,\"rgb(244,165,130)\"],[0.4,\"rgb(253,219,199)\"],[0.5,\"rgb(247,247,247)\"],[0.6,\"rgb(209,229,240)\"],[0.7,\"rgb(146,197,222)\"],[0.8,\"rgb(67,147,195)\"],[0.9,\"rgb(33,102,172)\"],[1.0,\"rgb(5,48,97)\"]],\"sequential\":[[0.0,\"#440154\"],[0.1111111111111111,\"#482878\"],[0.2222222222222222,\"#3e4989\"],[0.3333333333333333,\"#31688e\"],[0.4444444444444444,\"#26828e\"],[0.5555555555555556,\"#1f9e89\"],[0.6666666666666666,\"#35b779\"],[0.7777777777777778,\"#6ece58\"],[0.8888888888888888,\"#b5de2b\"],[1.0,\"#fde725\"]],\"sequentialminus\":[[0.0,\"#440154\"],[0.1111111111111111,\"#482878\"],[0.2222222222222222,\"#3e4989\"],[0.3333333333333333,\"#31688e\"],[0.4444444444444444,\"#26828e\"],[0.5555555555555556,\"#1f9e89\"],[0.6666666666666666,\"#35b779\"],[0.7777777777777778,\"#6ece58\"],[0.8888888888888888,\"#b5de2b\"],[1.0,\"#fde725\"]]},\"colorway\":[\"#1F77B4\",\"#FF7F0E\",\"#2CA02C\",\"#D62728\",\"#9467BD\",\"#8C564B\",\"#E377C2\",\"#7F7F7F\",\"#BCBD22\",\"#17BECF\"],\"font\":{\"color\":\"rgb(36,36,36)\"},\"geo\":{\"bgcolor\":\"white\",\"lakecolor\":\"white\",\"landcolor\":\"white\",\"showlakes\":true,\"showland\":true,\"subunitcolor\":\"white\"},\"hoverlabel\":{\"align\":\"left\"},\"hovermode\":\"closest\",\"mapbox\":{\"style\":\"light\"},\"paper_bgcolor\":\"white\",\"plot_bgcolor\":\"white\",\"polar\":{\"angularaxis\":{\"gridcolor\":\"rgb(232,232,232)\",\"linecolor\":\"rgb(36,36,36)\",\"showgrid\":false,\"showline\":true,\"ticks\":\"outside\"},\"bgcolor\":\"white\",\"radialaxis\":{\"gridcolor\":\"rgb(232,232,232)\",\"linecolor\":\"rgb(36,36,36)\",\"showgrid\":false,\"showline\":true,\"ticks\":\"outside\"}},\"scene\":{\"xaxis\":{\"backgroundcolor\":\"white\",\"gridcolor\":\"rgb(232,232,232)\",\"gridwidth\":2,\"linecolor\":\"rgb(36,36,36)\",\"showbackground\":true,\"showgrid\":false,\"showline\":true,\"ticks\":\"outside\",\"zeroline\":false,\"zerolinecolor\":\"rgb(36,36,36)\"},\"yaxis\":{\"backgroundcolor\":\"white\",\"gridcolor\":\"rgb(232,232,232)\",\"gridwidth\":2,\"linecolor\":\"rgb(36,36,36)\",\"showbackground\":true,\"showgrid\":false,\"showline\":true,\"ticks\":\"outside\",\"zeroline\":false,\"zerolinecolor\":\"rgb(36,36,36)\"},\"zaxis\":{\"backgroundcolor\":\"white\",\"gridcolor\":\"rgb(232,232,232)\",\"gridwidth\":2,\"linecolor\":\"rgb(36,36,36)\",\"showbackground\":true,\"showgrid\":false,\"showline\":true,\"ticks\":\"outside\",\"zeroline\":false,\"zerolinecolor\":\"rgb(36,36,36)\"}},\"shapedefaults\":{\"fillcolor\":\"black\",\"line\":{\"width\":0},\"opacity\":0.3},\"ternary\":{\"aaxis\":{\"gridcolor\":\"rgb(232,232,232)\",\"linecolor\":\"rgb(36,36,36)\",\"showgrid\":false,\"showline\":true,\"ticks\":\"outside\"},\"baxis\":{\"gridcolor\":\"rgb(232,232,232)\",\"linecolor\":\"rgb(36,36,36)\",\"showgrid\":false,\"showline\":true,\"ticks\":\"outside\"},\"bgcolor\":\"white\",\"caxis\":{\"gridcolor\":\"rgb(232,232,232)\",\"linecolor\":\"rgb(36,36,36)\",\"showgrid\":false,\"showline\":true,\"ticks\":\"outside\"}},\"title\":{\"x\":0.05},\"xaxis\":{\"automargin\":true,\"gridcolor\":\"rgb(232,232,232)\",\"linecolor\":\"rgb(36,36,36)\",\"showgrid\":false,\"showline\":true,\"ticks\":\"outside\",\"title\":{\"standoff\":15},\"zeroline\":false,\"zerolinecolor\":\"rgb(36,36,36)\"},\"yaxis\":{\"automargin\":true,\"gridcolor\":\"rgb(232,232,232)\",\"linecolor\":\"rgb(36,36,36)\",\"showgrid\":false,\"showline\":true,\"ticks\":\"outside\",\"title\":{\"standoff\":15},\"zeroline\":false,\"zerolinecolor\":\"rgb(36,36,36)\"}}},\"title\":{\"text\":\"Val Accuracy\",\"y\":0.9,\"x\":0.5,\"xanchor\":\"center\",\"yanchor\":\"top\"},\"xaxis\":{\"title\":{\"text\":\"Epochs\"}},\"yaxis\":{\"title\":{\"text\":\"Val Accuracy\"}}},                        {\"responsive\": true}                    ).then(function(){\n",
       "                            \n",
       "var gd = document.getElementById('a8ace60d-3fff-4901-865d-b1505eb3bfc5');\n",
       "var x = new MutationObserver(function (mutations, observer) {{\n",
       "        var display = window.getComputedStyle(gd).display;\n",
       "        if (!display || display === 'none') {{\n",
       "            console.log([gd, 'removed!']);\n",
       "            Plotly.purge(gd);\n",
       "            observer.disconnect();\n",
       "        }}\n",
       "}});\n",
       "\n",
       "// Listen for the removal of the full notebook cells\n",
       "var notebookContainer = gd.closest('#notebook-container');\n",
       "if (notebookContainer) {{\n",
       "    x.observe(notebookContainer, {childList: true});\n",
       "}}\n",
       "\n",
       "// Listen for the clearing of the current output cell\n",
       "var outputEl = gd.closest('.output');\n",
       "if (outputEl) {{\n",
       "    x.observe(outputEl, {childList: true});\n",
       "}}\n",
       "\n",
       "                        })                };                            </script>        </div>\n",
       "</body>\n",
       "</html>"
      ]
     },
     "metadata": {},
     "output_type": "display_data"
    }
   ],
   "source": [
    "# Accuracy Graph \n",
    "fig = go.Figure()\n",
    "fig.add_trace(go.Scatter(y= history.history[\"accuracy\"], \n",
    "                    mode='lines',\n",
    "                    name='lines'))\n",
    "\n",
    "fig.update_layout(\n",
    "    template=\"simple_white\",\n",
    "    xaxis_title=\"Epochs\",\n",
    "    yaxis_title=\"Val Accuracy\",\n",
    "\n",
    "title={\n",
    "    'text': \"Val Accuracy\",\n",
    "    'y':0.9,\n",
    "    'x':0.5,\n",
    "    'xanchor': 'center',\n",
    "    'yanchor': 'top'})\n",
    "\n",
    "fig.show()"
   ]
  },
  {
   "cell_type": "code",
   "execution_count": null,
   "metadata": {
    "colab": {
     "base_uri": "https://localhost:8080/",
     "height": 542
    },
    "id": "hW6Bj8S4iQTB",
    "outputId": "7edf5369-f729-41b1-cb7e-1158b22c6aad"
   },
   "outputs": [
    {
     "data": {
      "text/html": [
       "<html>\n",
       "<head><meta charset=\"utf-8\" /></head>\n",
       "<body>\n",
       "    <div>            <script src=\"https://cdnjs.cloudflare.com/ajax/libs/mathjax/2.7.5/MathJax.js?config=TeX-AMS-MML_SVG\"></script><script type=\"text/javascript\">if (window.MathJax) {MathJax.Hub.Config({SVG: {font: \"STIX-Web\"}});}</script>                <script type=\"text/javascript\">window.PlotlyConfig = {MathJaxConfig: 'local'};</script>\n",
       "        <script src=\"https://cdn.plot.ly/plotly-2.8.3.min.js\"></script>                <div id=\"90dc563d-7507-429c-949a-c6cf33d5106c\" class=\"plotly-graph-div\" style=\"height:525px; width:100%;\"></div>            <script type=\"text/javascript\">                                    window.PLOTLYENV=window.PLOTLYENV || {};                                    if (document.getElementById(\"90dc563d-7507-429c-949a-c6cf33d5106c\")) {                    Plotly.newPlot(                        \"90dc563d-7507-429c-949a-c6cf33d5106c\",                        [{\"mode\":\"lines\",\"name\":\"lines\",\"y\":[1.7444988489151,0.8603542447090149,0.6177452802658081,0.5875096321105957,0.5744066834449768,0.5639352202415466,0.5580475926399231,0.5428507924079895,0.561161994934082,0.5434069633483887,0.5264168977737427,0.5388767123222351,0.5180675387382507,0.5286592245101929,0.5676752924919128,0.5590214133262634,0.5651960968971252,0.5293089151382446,0.49927860498428345,0.4924662709236145,0.4917261004447937,0.5034717917442322,0.5070178508758545,0.4944579601287842,0.4870763123035431,0.5050503015518188,0.47756510972976685,0.479787141084671,0.47760820388793945,0.47730058431625366,0.49386855959892273,0.5051002502441406,0.49716517329216003,0.4952561557292938,0.4910999834537506,0.48123985528945923,0.48177751898765564,0.4686312675476074,0.45261505246162415,0.45872390270233154,0.5181069374084473,0.4906778633594513,0.45895829796791077,0.46457740664482117,0.4540877342224121,0.46178290247917175,0.5356071591377258,0.4793204963207245,0.4828815758228302,0.48130014538764954],\"type\":\"scatter\"}],                        {\"template\":{\"data\":{\"barpolar\":[{\"marker\":{\"line\":{\"color\":\"white\",\"width\":0.5},\"pattern\":{\"fillmode\":\"overlay\",\"size\":10,\"solidity\":0.2}},\"type\":\"barpolar\"}],\"bar\":[{\"error_x\":{\"color\":\"rgb(36,36,36)\"},\"error_y\":{\"color\":\"rgb(36,36,36)\"},\"marker\":{\"line\":{\"color\":\"white\",\"width\":0.5},\"pattern\":{\"fillmode\":\"overlay\",\"size\":10,\"solidity\":0.2}},\"type\":\"bar\"}],\"carpet\":[{\"aaxis\":{\"endlinecolor\":\"rgb(36,36,36)\",\"gridcolor\":\"white\",\"linecolor\":\"white\",\"minorgridcolor\":\"white\",\"startlinecolor\":\"rgb(36,36,36)\"},\"baxis\":{\"endlinecolor\":\"rgb(36,36,36)\",\"gridcolor\":\"white\",\"linecolor\":\"white\",\"minorgridcolor\":\"white\",\"startlinecolor\":\"rgb(36,36,36)\"},\"type\":\"carpet\"}],\"choropleth\":[{\"colorbar\":{\"outlinewidth\":1,\"tickcolor\":\"rgb(36,36,36)\",\"ticks\":\"outside\"},\"type\":\"choropleth\"}],\"contourcarpet\":[{\"colorbar\":{\"outlinewidth\":1,\"tickcolor\":\"rgb(36,36,36)\",\"ticks\":\"outside\"},\"type\":\"contourcarpet\"}],\"contour\":[{\"colorbar\":{\"outlinewidth\":1,\"tickcolor\":\"rgb(36,36,36)\",\"ticks\":\"outside\"},\"colorscale\":[[0.0,\"#440154\"],[0.1111111111111111,\"#482878\"],[0.2222222222222222,\"#3e4989\"],[0.3333333333333333,\"#31688e\"],[0.4444444444444444,\"#26828e\"],[0.5555555555555556,\"#1f9e89\"],[0.6666666666666666,\"#35b779\"],[0.7777777777777778,\"#6ece58\"],[0.8888888888888888,\"#b5de2b\"],[1.0,\"#fde725\"]],\"type\":\"contour\"}],\"heatmapgl\":[{\"colorbar\":{\"outlinewidth\":1,\"tickcolor\":\"rgb(36,36,36)\",\"ticks\":\"outside\"},\"colorscale\":[[0.0,\"#440154\"],[0.1111111111111111,\"#482878\"],[0.2222222222222222,\"#3e4989\"],[0.3333333333333333,\"#31688e\"],[0.4444444444444444,\"#26828e\"],[0.5555555555555556,\"#1f9e89\"],[0.6666666666666666,\"#35b779\"],[0.7777777777777778,\"#6ece58\"],[0.8888888888888888,\"#b5de2b\"],[1.0,\"#fde725\"]],\"type\":\"heatmapgl\"}],\"heatmap\":[{\"colorbar\":{\"outlinewidth\":1,\"tickcolor\":\"rgb(36,36,36)\",\"ticks\":\"outside\"},\"colorscale\":[[0.0,\"#440154\"],[0.1111111111111111,\"#482878\"],[0.2222222222222222,\"#3e4989\"],[0.3333333333333333,\"#31688e\"],[0.4444444444444444,\"#26828e\"],[0.5555555555555556,\"#1f9e89\"],[0.6666666666666666,\"#35b779\"],[0.7777777777777778,\"#6ece58\"],[0.8888888888888888,\"#b5de2b\"],[1.0,\"#fde725\"]],\"type\":\"heatmap\"}],\"histogram2dcontour\":[{\"colorbar\":{\"outlinewidth\":1,\"tickcolor\":\"rgb(36,36,36)\",\"ticks\":\"outside\"},\"colorscale\":[[0.0,\"#440154\"],[0.1111111111111111,\"#482878\"],[0.2222222222222222,\"#3e4989\"],[0.3333333333333333,\"#31688e\"],[0.4444444444444444,\"#26828e\"],[0.5555555555555556,\"#1f9e89\"],[0.6666666666666666,\"#35b779\"],[0.7777777777777778,\"#6ece58\"],[0.8888888888888888,\"#b5de2b\"],[1.0,\"#fde725\"]],\"type\":\"histogram2dcontour\"}],\"histogram2d\":[{\"colorbar\":{\"outlinewidth\":1,\"tickcolor\":\"rgb(36,36,36)\",\"ticks\":\"outside\"},\"colorscale\":[[0.0,\"#440154\"],[0.1111111111111111,\"#482878\"],[0.2222222222222222,\"#3e4989\"],[0.3333333333333333,\"#31688e\"],[0.4444444444444444,\"#26828e\"],[0.5555555555555556,\"#1f9e89\"],[0.6666666666666666,\"#35b779\"],[0.7777777777777778,\"#6ece58\"],[0.8888888888888888,\"#b5de2b\"],[1.0,\"#fde725\"]],\"type\":\"histogram2d\"}],\"histogram\":[{\"marker\":{\"line\":{\"color\":\"white\",\"width\":0.6}},\"type\":\"histogram\"}],\"mesh3d\":[{\"colorbar\":{\"outlinewidth\":1,\"tickcolor\":\"rgb(36,36,36)\",\"ticks\":\"outside\"},\"type\":\"mesh3d\"}],\"parcoords\":[{\"line\":{\"colorbar\":{\"outlinewidth\":1,\"tickcolor\":\"rgb(36,36,36)\",\"ticks\":\"outside\"}},\"type\":\"parcoords\"}],\"pie\":[{\"automargin\":true,\"type\":\"pie\"}],\"scatter3d\":[{\"line\":{\"colorbar\":{\"outlinewidth\":1,\"tickcolor\":\"rgb(36,36,36)\",\"ticks\":\"outside\"}},\"marker\":{\"colorbar\":{\"outlinewidth\":1,\"tickcolor\":\"rgb(36,36,36)\",\"ticks\":\"outside\"}},\"type\":\"scatter3d\"}],\"scattercarpet\":[{\"marker\":{\"colorbar\":{\"outlinewidth\":1,\"tickcolor\":\"rgb(36,36,36)\",\"ticks\":\"outside\"}},\"type\":\"scattercarpet\"}],\"scattergeo\":[{\"marker\":{\"colorbar\":{\"outlinewidth\":1,\"tickcolor\":\"rgb(36,36,36)\",\"ticks\":\"outside\"}},\"type\":\"scattergeo\"}],\"scattergl\":[{\"marker\":{\"colorbar\":{\"outlinewidth\":1,\"tickcolor\":\"rgb(36,36,36)\",\"ticks\":\"outside\"}},\"type\":\"scattergl\"}],\"scattermapbox\":[{\"marker\":{\"colorbar\":{\"outlinewidth\":1,\"tickcolor\":\"rgb(36,36,36)\",\"ticks\":\"outside\"}},\"type\":\"scattermapbox\"}],\"scatterpolargl\":[{\"marker\":{\"colorbar\":{\"outlinewidth\":1,\"tickcolor\":\"rgb(36,36,36)\",\"ticks\":\"outside\"}},\"type\":\"scatterpolargl\"}],\"scatterpolar\":[{\"marker\":{\"colorbar\":{\"outlinewidth\":1,\"tickcolor\":\"rgb(36,36,36)\",\"ticks\":\"outside\"}},\"type\":\"scatterpolar\"}],\"scatter\":[{\"marker\":{\"colorbar\":{\"outlinewidth\":1,\"tickcolor\":\"rgb(36,36,36)\",\"ticks\":\"outside\"}},\"type\":\"scatter\"}],\"scatterternary\":[{\"marker\":{\"colorbar\":{\"outlinewidth\":1,\"tickcolor\":\"rgb(36,36,36)\",\"ticks\":\"outside\"}},\"type\":\"scatterternary\"}],\"surface\":[{\"colorbar\":{\"outlinewidth\":1,\"tickcolor\":\"rgb(36,36,36)\",\"ticks\":\"outside\"},\"colorscale\":[[0.0,\"#440154\"],[0.1111111111111111,\"#482878\"],[0.2222222222222222,\"#3e4989\"],[0.3333333333333333,\"#31688e\"],[0.4444444444444444,\"#26828e\"],[0.5555555555555556,\"#1f9e89\"],[0.6666666666666666,\"#35b779\"],[0.7777777777777778,\"#6ece58\"],[0.8888888888888888,\"#b5de2b\"],[1.0,\"#fde725\"]],\"type\":\"surface\"}],\"table\":[{\"cells\":{\"fill\":{\"color\":\"rgb(237,237,237)\"},\"line\":{\"color\":\"white\"}},\"header\":{\"fill\":{\"color\":\"rgb(217,217,217)\"},\"line\":{\"color\":\"white\"}},\"type\":\"table\"}]},\"layout\":{\"annotationdefaults\":{\"arrowhead\":0,\"arrowwidth\":1},\"autotypenumbers\":\"strict\",\"coloraxis\":{\"colorbar\":{\"outlinewidth\":1,\"tickcolor\":\"rgb(36,36,36)\",\"ticks\":\"outside\"}},\"colorscale\":{\"diverging\":[[0.0,\"rgb(103,0,31)\"],[0.1,\"rgb(178,24,43)\"],[0.2,\"rgb(214,96,77)\"],[0.3,\"rgb(244,165,130)\"],[0.4,\"rgb(253,219,199)\"],[0.5,\"rgb(247,247,247)\"],[0.6,\"rgb(209,229,240)\"],[0.7,\"rgb(146,197,222)\"],[0.8,\"rgb(67,147,195)\"],[0.9,\"rgb(33,102,172)\"],[1.0,\"rgb(5,48,97)\"]],\"sequential\":[[0.0,\"#440154\"],[0.1111111111111111,\"#482878\"],[0.2222222222222222,\"#3e4989\"],[0.3333333333333333,\"#31688e\"],[0.4444444444444444,\"#26828e\"],[0.5555555555555556,\"#1f9e89\"],[0.6666666666666666,\"#35b779\"],[0.7777777777777778,\"#6ece58\"],[0.8888888888888888,\"#b5de2b\"],[1.0,\"#fde725\"]],\"sequentialminus\":[[0.0,\"#440154\"],[0.1111111111111111,\"#482878\"],[0.2222222222222222,\"#3e4989\"],[0.3333333333333333,\"#31688e\"],[0.4444444444444444,\"#26828e\"],[0.5555555555555556,\"#1f9e89\"],[0.6666666666666666,\"#35b779\"],[0.7777777777777778,\"#6ece58\"],[0.8888888888888888,\"#b5de2b\"],[1.0,\"#fde725\"]]},\"colorway\":[\"#1F77B4\",\"#FF7F0E\",\"#2CA02C\",\"#D62728\",\"#9467BD\",\"#8C564B\",\"#E377C2\",\"#7F7F7F\",\"#BCBD22\",\"#17BECF\"],\"font\":{\"color\":\"rgb(36,36,36)\"},\"geo\":{\"bgcolor\":\"white\",\"lakecolor\":\"white\",\"landcolor\":\"white\",\"showlakes\":true,\"showland\":true,\"subunitcolor\":\"white\"},\"hoverlabel\":{\"align\":\"left\"},\"hovermode\":\"closest\",\"mapbox\":{\"style\":\"light\"},\"paper_bgcolor\":\"white\",\"plot_bgcolor\":\"white\",\"polar\":{\"angularaxis\":{\"gridcolor\":\"rgb(232,232,232)\",\"linecolor\":\"rgb(36,36,36)\",\"showgrid\":false,\"showline\":true,\"ticks\":\"outside\"},\"bgcolor\":\"white\",\"radialaxis\":{\"gridcolor\":\"rgb(232,232,232)\",\"linecolor\":\"rgb(36,36,36)\",\"showgrid\":false,\"showline\":true,\"ticks\":\"outside\"}},\"scene\":{\"xaxis\":{\"backgroundcolor\":\"white\",\"gridcolor\":\"rgb(232,232,232)\",\"gridwidth\":2,\"linecolor\":\"rgb(36,36,36)\",\"showbackground\":true,\"showgrid\":false,\"showline\":true,\"ticks\":\"outside\",\"zeroline\":false,\"zerolinecolor\":\"rgb(36,36,36)\"},\"yaxis\":{\"backgroundcolor\":\"white\",\"gridcolor\":\"rgb(232,232,232)\",\"gridwidth\":2,\"linecolor\":\"rgb(36,36,36)\",\"showbackground\":true,\"showgrid\":false,\"showline\":true,\"ticks\":\"outside\",\"zeroline\":false,\"zerolinecolor\":\"rgb(36,36,36)\"},\"zaxis\":{\"backgroundcolor\":\"white\",\"gridcolor\":\"rgb(232,232,232)\",\"gridwidth\":2,\"linecolor\":\"rgb(36,36,36)\",\"showbackground\":true,\"showgrid\":false,\"showline\":true,\"ticks\":\"outside\",\"zeroline\":false,\"zerolinecolor\":\"rgb(36,36,36)\"}},\"shapedefaults\":{\"fillcolor\":\"black\",\"line\":{\"width\":0},\"opacity\":0.3},\"ternary\":{\"aaxis\":{\"gridcolor\":\"rgb(232,232,232)\",\"linecolor\":\"rgb(36,36,36)\",\"showgrid\":false,\"showline\":true,\"ticks\":\"outside\"},\"baxis\":{\"gridcolor\":\"rgb(232,232,232)\",\"linecolor\":\"rgb(36,36,36)\",\"showgrid\":false,\"showline\":true,\"ticks\":\"outside\"},\"bgcolor\":\"white\",\"caxis\":{\"gridcolor\":\"rgb(232,232,232)\",\"linecolor\":\"rgb(36,36,36)\",\"showgrid\":false,\"showline\":true,\"ticks\":\"outside\"}},\"title\":{\"x\":0.05},\"xaxis\":{\"automargin\":true,\"gridcolor\":\"rgb(232,232,232)\",\"linecolor\":\"rgb(36,36,36)\",\"showgrid\":false,\"showline\":true,\"ticks\":\"outside\",\"title\":{\"standoff\":15},\"zeroline\":false,\"zerolinecolor\":\"rgb(36,36,36)\"},\"yaxis\":{\"automargin\":true,\"gridcolor\":\"rgb(232,232,232)\",\"linecolor\":\"rgb(36,36,36)\",\"showgrid\":false,\"showline\":true,\"ticks\":\"outside\",\"title\":{\"standoff\":15},\"zeroline\":false,\"zerolinecolor\":\"rgb(36,36,36)\"}}},\"title\":{\"text\":\"Val Loss\",\"y\":0.9,\"x\":0.5,\"xanchor\":\"center\",\"yanchor\":\"top\"},\"xaxis\":{\"title\":{\"text\":\"Epochs\"}},\"yaxis\":{\"title\":{\"text\":\"Val Loss\"}}},                        {\"responsive\": true}                    ).then(function(){\n",
       "                            \n",
       "var gd = document.getElementById('90dc563d-7507-429c-949a-c6cf33d5106c');\n",
       "var x = new MutationObserver(function (mutations, observer) {{\n",
       "        var display = window.getComputedStyle(gd).display;\n",
       "        if (!display || display === 'none') {{\n",
       "            console.log([gd, 'removed!']);\n",
       "            Plotly.purge(gd);\n",
       "            observer.disconnect();\n",
       "        }}\n",
       "}});\n",
       "\n",
       "// Listen for the removal of the full notebook cells\n",
       "var notebookContainer = gd.closest('#notebook-container');\n",
       "if (notebookContainer) {{\n",
       "    x.observe(notebookContainer, {childList: true});\n",
       "}}\n",
       "\n",
       "// Listen for the clearing of the current output cell\n",
       "var outputEl = gd.closest('.output');\n",
       "if (outputEl) {{\n",
       "    x.observe(outputEl, {childList: true});\n",
       "}}\n",
       "\n",
       "                        })                };                            </script>        </div>\n",
       "</body>\n",
       "</html>"
      ]
     },
     "metadata": {},
     "output_type": "display_data"
    }
   ],
   "source": [
    "# Loss Graph \n",
    "fig = go.Figure()\n",
    "fig.add_trace(go.Scatter(y= history.history[\"loss\"], \n",
    "                    mode='lines',\n",
    "                    name='lines'))\n",
    "\n",
    "fig.update_layout(\n",
    "    template=\"simple_white\",\n",
    "    xaxis_title=\"Epochs\",\n",
    "    yaxis_title=\"Val Loss\",\n",
    "\n",
    "title={\n",
    "    'text': \"Val Loss\",\n",
    "    'y':0.9,\n",
    "    'x':0.5,\n",
    "    'xanchor': 'center',\n",
    "    'yanchor': 'top'})\n",
    "\n",
    "fig.show()"
   ]
  },
  {
   "cell_type": "code",
   "execution_count": null,
   "metadata": {
    "colab": {
     "base_uri": "https://localhost:8080/"
    },
    "id": "xfl_JBTYAYwg",
    "outputId": "d6421cd0-57ac-4bd1-e35f-8c88476bbdd1"
   },
   "outputs": [
    {
     "name": "stdout",
     "output_type": "stream",
     "text": [
      "7/7 [==============================] - 0s 34ms/step\n"
     ]
    }
   ],
   "source": [
    "# Prediction\n",
    "test_preds = model.predict(X_test.reshape(-1, 1, 1440))"
   ]
  },
  {
   "cell_type": "code",
   "execution_count": null,
   "metadata": {
    "colab": {
     "base_uri": "https://localhost:8080/"
    },
    "id": "R_Nyw-fbAq6v",
    "outputId": "171ef8c3-1c1d-4b3a-cb7f-7b2e10913744"
   },
   "outputs": [
    {
     "data": {
      "text/plain": [
       "0.7184466019417476"
      ]
     },
     "execution_count": 34,
     "metadata": {},
     "output_type": "execute_result"
    }
   ],
   "source": [
    "# accuracy\n",
    "accuracy_score(y_test, np.rint(test_preds))"
   ]
  },
  {
   "cell_type": "code",
   "execution_count": null,
   "metadata": {
    "colab": {
     "base_uri": "https://localhost:8080/"
    },
    "id": "Vp5IguWr6TKc",
    "outputId": "e2ff5425-d075-48cb-dfe2-258ecc901fdd"
   },
   "outputs": [
    {
     "data": {
      "text/plain": [
       "0.7184466019417476"
      ]
     },
     "execution_count": 36,
     "metadata": {},
     "output_type": "execute_result"
    }
   ],
   "source": [
    "recall_score(y_test, np.rint(test_preds), average='micro')"
   ]
  },
  {
   "cell_type": "code",
   "execution_count": null,
   "metadata": {
    "colab": {
     "base_uri": "https://localhost:8080/"
    },
    "id": "QNCHMQyk7RhP",
    "outputId": "3efa4135-cfa3-4295-bd59-d5658943659f"
   },
   "outputs": [
    {
     "data": {
      "text/plain": [
       "0.7184466019417476"
      ]
     },
     "execution_count": 43,
     "metadata": {},
     "output_type": "execute_result"
    }
   ],
   "source": [
    "precision_score(y_test, np.rint(test_preds), average='micro')"
   ]
  },
  {
   "cell_type": "code",
   "execution_count": null,
   "metadata": {
    "colab": {
     "base_uri": "https://localhost:8080/",
     "height": 285
    },
    "id": "lO-jDjsY67lf",
    "outputId": "1cf42b97-8f6a-4b76-f141-05b9a76d5fa5"
   },
   "outputs": [
    {
     "data": {
      "text/plain": [
       "<matplotlib.axes._subplots.AxesSubplot at 0x7f759a373c50>"
      ]
     },
     "execution_count": 40,
     "metadata": {},
     "output_type": "execute_result"
    },
    {
     "data": {
      "image/png": "[encoded data removed]",
      "text/plain": [
       "<Figure size 432x288 with 2 Axes>"
      ]
     },
     "metadata": {
      "needs_background": "light"
     },
     "output_type": "display_data"
    }
   ],
   "source": [
    "cf_matrix = confusion_matrix(y_test, np.rint(test_preds))\n",
    "sns.heatmap(cf_matrix/np.sum(cf_matrix), annot=True, \n",
    "            fmt='.2%', cmap='Blues',  xticklabels=[\"Not Depressed\", \"Depressed\"], yticklabels=[\"Not Depressed\", \"Depressed\"])"
   ]
  }
 ],
 "metadata": {
  "colab": {
   "provenance": []
  },
  "kernelspec": {
   "display_name": "Python 3 (ipykernel)",
   "language": "python",
   "name": "python3"
  },
  "language_info": {
   "codemirror_mode": {
    "name": "ipython",
    "version": 3
   },
   "file_extension": ".py",
   "mimetype": "text/x-python",
   "name": "python",
   "nbconvert_exporter": "python",
   "pygments_lexer": "ipython3",
   "version": "3.9.6"
  }
 },
 "nbformat": 4,
 "nbformat_minor": 1
}
